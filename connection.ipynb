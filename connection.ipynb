{
 "cells": [
  {
   "cell_type": "code",
   "execution_count": 2,
   "id": "bd566a0b-e05c-4bb7-b19a-ee616cf1d172",
   "metadata": {},
   "outputs": [
    {
     "name": "stdout",
     "output_type": "stream",
     "text": [
      "\n",
      "=== Sistema de Análise de Projetos ===\n",
      "1. Listar projetos\n",
      "2. Visualizar recursos por projeto\n",
      "3. Ver tarefas atrasadas\n",
      "4. Gráfico de custos por projeto\n",
      "0. Sair\n"
     ]
    },
    {
     "name": "stdin",
     "output_type": "stream",
     "text": [
      "Escolha uma opção:  1\n"
     ]
    },
    {
     "name": "stdout",
     "output_type": "stream",
     "text": [
      "\n",
      "Lista de Projetos:\n"
     ]
    },
    {
     "data": {
      "text/html": [
       "<div>\n",
       "<style scoped>\n",
       "    .dataframe tbody tr th:only-of-type {\n",
       "        vertical-align: middle;\n",
       "    }\n",
       "\n",
       "    .dataframe tbody tr th {\n",
       "        vertical-align: top;\n",
       "    }\n",
       "\n",
       "    .dataframe thead th {\n",
       "        text-align: right;\n",
       "    }\n",
       "</style>\n",
       "<table border=\"1\" class=\"dataframe\">\n",
       "  <thead>\n",
       "    <tr style=\"text-align: right;\">\n",
       "      <th></th>\n",
       "      <th>projeto_id</th>\n",
       "      <th>nome</th>\n",
       "      <th>descricao</th>\n",
       "      <th>data_inicio</th>\n",
       "      <th>data_fim</th>\n",
       "      <th>status</th>\n",
       "    </tr>\n",
       "  </thead>\n",
       "  <tbody>\n",
       "  </tbody>\n",
       "</table>\n",
       "</div>"
      ],
      "text/plain": [
       "Empty DataFrame\n",
       "Columns: [projeto_id, nome, descricao, data_inicio, data_fim, status]\n",
       "Index: []"
      ]
     },
     "metadata": {},
     "output_type": "display_data"
    },
    {
     "name": "stdout",
     "output_type": "stream",
     "text": [
      "\n",
      "=== Sistema de Análise de Projetos ===\n",
      "1. Listar projetos\n",
      "2. Visualizar recursos por projeto\n",
      "3. Ver tarefas atrasadas\n",
      "4. Gráfico de custos por projeto\n",
      "0. Sair\n"
     ]
    },
    {
     "name": "stdin",
     "output_type": "stream",
     "text": [
      "Escolha uma opção:  0\n"
     ]
    },
    {
     "name": "stdout",
     "output_type": "stream",
     "text": [
      "Saindo do sistema...\n"
     ]
    }
   ],
   "source": [
    "import pandas as pd\n",
    "from sqlalchemy import create_engine\n",
    "import matplotlib.pyplot as plt\n",
    "\n",
    "# ---------- Conexão com o banco ----------\n",
    "user = \"postgres\"\n",
    "password = \"capoeira\"\n",
    "host = \"localhost\"\n",
    "port = 5432\n",
    "database = \"analise_de_dados\"\n",
    "\n",
    "engine = create_engine(f'postgresql+psycopg2://{user}:{password}@{host}:{port}/{database}')\n",
    "\n",
    "# ---------- Carregar tabelas ----------\n",
    "df_projects = pd.read_sql(\"SELECT * FROM Projetos;\", engine)\n",
    "df_tasks = pd.read_sql(\"SELECT * FROM Tarefas;\", engine)\n",
    "df_employees = pd.read_sql(\"SELECT * FROM Empregados;\", engine)\n",
    "df_logs = pd.read_sql(\"SELECT * FROM Logs;\", engine)\n",
    "df_costs = pd.read_sql(\"SELECT * FROM Custos;\", engine)\n",
    "df_resources = pd.read_sql(\"SELECT * FROM Recursos;\", engine)\n",
    "df_project_resources = pd.read_sql(\"SELECT * FROM Recursos_projetos;\", engine)\n",
    "\n",
    "# ---------- Funções do sistema ----------\n",
    "def listar_projetos():\n",
    "    print(\"\\nLista de Projetos:\")\n",
    "    display(df_projects[['projeto_id', 'nome', 'descricao', 'data_inicio', 'data_fim', 'status']])\n",
    "\n",
    "def recursos_por_projeto():\n",
    "    projeto_id = int(input(\"Digite o ID do projeto: \"))\n",
    "    projeto = df_projects[df_projects['projeto_id'] == projeto_id]\n",
    "    if projeto.empty:\n",
    "        print(\"Projeto não encontrado!\")\n",
    "        return\n",
    "\n",
    "    print(f\"\\nRecursos do Projeto: {projeto['nome'].values[0]}\")\n",
    "    df_proj_res = df_project_resources[df_project_resources['projeto_id'] == projeto_id]\n",
    "    df_rec = df_proj_res.merge(df_resources, left_on='recurso_id', right_on='recurso_id')\n",
    "    df_rec['custo_total'] = df_rec['quantidade'] * df_rec['custo_unidade']\n",
    "    display(df_rec[['nome', 'tipo', 'quantidade', 'custo_total']])\n",
    "    print(f\"Custo total de recursos: R$ {df_rec['custo_total'].sum():.2f}\")\n",
    "\n",
    "def tarefas_atrasadas():\n",
    "    atrasadas = df_tasks[df_tasks['status'] == 'atrasado']\n",
    "    print(\"\\nTarefas Atrasadas:\")\n",
    "    display(atrasadas[['tarefas_id', 'nome', 'projeto_id', 'id_responsavel', 'data_fim']])\n",
    "\n",
    "def grafico_custos():\n",
    "    df_proj_res = df_project_resources.merge(df_resources, left_on='recurso_id', right_on='recurso_id')\n",
    "    df_proj_res['custo_unitario'] = df_proj_res['quantidade'] * df_proj_res['custo_unitario']\n",
    "    custos = df_proj_res.groupby('projeto_id')['custo_unitario'].sum().reset_index()\n",
    "    custos = custos.merge(df_projects, left_on='projeto_id', right_on='projeto_id')\n",
    "\n",
    "    plt.figure(figsize=(8,5))\n",
    "    plt.bar(custos['nome'], custos['custo_unitario'], color='skyblue')\n",
    "    plt.ylabel(\"Custo total (R$)\")\n",
    "    plt.title(\"Custo de Recursos por Projeto\")\n",
    "    plt.xticks(rotation=45)\n",
    "    plt.tight_layout()\n",
    "    plt.show()\n",
    "\n",
    "# ---------- Menu interativo ----------\n",
    "def menu():\n",
    "    while True:\n",
    "        print(\"\\n=== Sistema de Análise de Projetos ===\")\n",
    "        print(\"1. Listar projetos\")\n",
    "        print(\"2. Visualizar recursos por projeto\")\n",
    "        print(\"3. Ver tarefas atrasadas\")\n",
    "        print(\"4. Gráfico de custos por projeto\")\n",
    "        print(\"0. Sair\")\n",
    "        escolha = input(\"Escolha uma opção: \")\n",
    "\n",
    "        if escolha == '1':\n",
    "            listar_projetos()\n",
    "        elif escolha == '2':\n",
    "            recursos_por_projeto()\n",
    "        elif escolha == '3':\n",
    "            tarefas_atrasadas()\n",
    "        elif escolha == '4':\n",
    "            grafico_custos()\n",
    "        elif escolha == '0':\n",
    "            print(\"Saindo do sistema...\")\n",
    "            break\n",
    "        else:\n",
    "            print(\"Opção inválida! Tente novamente.\")\n",
    "\n",
    "# ---------- Rodar sistema ----------\n",
    "menu()\n"
   ]
  },
  {
   "cell_type": "code",
   "execution_count": null,
   "id": "0d70e961-d95b-4999-8c51-c5ef4b4531b1",
   "metadata": {},
   "outputs": [],
   "source": []
  }
 ],
 "metadata": {
  "kernelspec": {
   "display_name": "Python 3 (ipykernel)",
   "language": "python",
   "name": "python3"
  },
  "language_info": {
   "codemirror_mode": {
    "name": "ipython",
    "version": 3
   },
   "file_extension": ".py",
   "mimetype": "text/x-python",
   "name": "python",
   "nbconvert_exporter": "python",
   "pygments_lexer": "ipython3",
   "version": "3.13.7"
  }
 },
 "nbformat": 4,
 "nbformat_minor": 5
}
